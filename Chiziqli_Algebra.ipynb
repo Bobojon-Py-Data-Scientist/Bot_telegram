{
  "nbformat": 4,
  "nbformat_minor": 0,
  "metadata": {
    "colab": {
      "provenance": [],
      "authorship_tag": "ABX9TyN0Syi5iEwA81Crpyw2H+6E",
      "include_colab_link": true
    },
    "kernelspec": {
      "name": "python3",
      "display_name": "Python 3"
    },
    "language_info": {
      "name": "python"
    }
  },
  "cells": [
    {
      "cell_type": "markdown",
      "metadata": {
        "id": "view-in-github",
        "colab_type": "text"
      },
      "source": [
        "<a href=\"https://colab.research.google.com/github/Bobojon-Py-Data-Scientist/Bot_telegram/blob/main/Chiziqli_Algebra.ipynb\" target=\"_parent\"><img src=\"https://colab.research.google.com/assets/colab-badge.svg\" alt=\"Open In Colab\"/></a>"
      ]
    },
    {
      "cell_type": "markdown",
      "source": [
        "Chiziqli Algebra"
      ],
      "metadata": {
        "id": "d8luxKpo36dl"
      }
    },
    {
      "cell_type": "code",
      "source": [
        "import  numpy as np"
      ],
      "metadata": {
        "id": "l7DKKwXR4QnR"
      },
      "execution_count": 1,
      "outputs": []
    },
    {
      "cell_type": "code",
      "source": [
        "x =np.array([[1., 2., 3.,], [4., 5., 6.,]])"
      ],
      "metadata": {
        "id": "WV4v-4P14Vci"
      },
      "execution_count": 3,
      "outputs": []
    },
    {
      "cell_type": "code",
      "source": [
        "x"
      ],
      "metadata": {
        "colab": {
          "base_uri": "https://localhost:8080/"
        },
        "id": "wwzzBENB56WQ",
        "outputId": "8cf7b922-4804-4540-ead6-78922df94313"
      },
      "execution_count": 13,
      "outputs": [
        {
          "output_type": "execute_result",
          "data": {
            "text/plain": [
              "array([[1., 2., 3.],\n",
              "       [4., 5., 6.]])"
            ]
          },
          "metadata": {},
          "execution_count": 13
        }
      ]
    },
    {
      "cell_type": "code",
      "source": [
        "y= np.array([[5., 5., 5.,], [4., 4., 4.,]])"
      ],
      "metadata": {
        "id": "wpqY0-KO4tq1"
      },
      "execution_count": 4,
      "outputs": []
    },
    {
      "cell_type": "code",
      "source": [
        "y"
      ],
      "metadata": {
        "colab": {
          "base_uri": "https://localhost:8080/"
        },
        "id": "q6akOOE-58fO",
        "outputId": "71fdd69a-a542-4b67-e4aa-1f612debd511"
      },
      "execution_count": 14,
      "outputs": [
        {
          "output_type": "execute_result",
          "data": {
            "text/plain": [
              "array([[5., 5., 5.],\n",
              "       [4., 4., 4.]])"
            ]
          },
          "metadata": {},
          "execution_count": 14
        }
      ]
    },
    {
      "cell_type": "code",
      "source": [
        "x+y"
      ],
      "metadata": {
        "colab": {
          "base_uri": "https://localhost:8080/"
        },
        "id": "g_ZxrdM046_v",
        "outputId": "86638230-ca66-43e2-f730-63eb2422a9a6"
      },
      "execution_count": 5,
      "outputs": [
        {
          "output_type": "execute_result",
          "data": {
            "text/plain": [
              "array([[ 6.,  7.,  8.],\n",
              "       [ 8.,  9., 10.]])"
            ]
          },
          "metadata": {},
          "execution_count": 5
        }
      ]
    },
    {
      "cell_type": "code",
      "source": [
        "x*5"
      ],
      "metadata": {
        "colab": {
          "base_uri": "https://localhost:8080/"
        },
        "id": "hJBks7r45Agg",
        "outputId": "99fd3de8-2d2b-4d6c-bb9b-f86989e6dc99"
      },
      "execution_count": 6,
      "outputs": [
        {
          "output_type": "execute_result",
          "data": {
            "text/plain": [
              "array([[ 5., 10., 15.],\n",
              "       [20., 25., 30.]])"
            ]
          },
          "metadata": {},
          "execution_count": 6
        }
      ]
    },
    {
      "cell_type": "code",
      "source": [
        "x =np.array([[1., 2., 3.,], [4., 5., 6.,]])"
      ],
      "metadata": {
        "id": "PzF3NAOh5DAk"
      },
      "execution_count": 15,
      "outputs": []
    },
    {
      "cell_type": "code",
      "source": [
        "y = np.array([[6., 23.,], [-1., 7], [8, 9]])"
      ],
      "metadata": {
        "id": "bLNgil0a5kBN"
      },
      "execution_count": 16,
      "outputs": []
    },
    {
      "cell_type": "code",
      "source": [
        "x.dot(y)"
      ],
      "metadata": {
        "id": "kOcc-hNO6ZFo"
      },
      "execution_count": null,
      "outputs": []
    },
    {
      "cell_type": "markdown",
      "source": [
        "bunda x va y qaysisini yozsak 1-nchi osha ustun boyicha yoziladi!!!"
      ],
      "metadata": {
        "id": "9cWeMMFV7WtC"
      }
    },
    {
      "cell_type": "code",
      "source": [
        "y.dot(x)"
      ],
      "metadata": {
        "colab": {
          "base_uri": "https://localhost:8080/"
        },
        "id": "2JjZCpLa6i0q",
        "outputId": "63a807d6-7018-467c-ee3c-46f627aaf847"
      },
      "execution_count": 19,
      "outputs": [
        {
          "output_type": "execute_result",
          "data": {
            "text/plain": [
              "array([[ 98., 127., 156.],\n",
              "       [ 27.,  33.,  39.],\n",
              "       [ 44.,  61.,  78.]])"
            ]
          },
          "metadata": {},
          "execution_count": 19
        }
      ]
    },
    {
      "cell_type": "markdown",
      "source": [
        "npdot (x y)  bunda x ustuni boyicha chiqaradi  javobini!!!\n",
        "Buyerdayam x yoki y qaysisi 1-nchi yozilganiga qarab ustunini chiqaradi!!!"
      ],
      "metadata": {
        "id": "DFlW7GwZ7NmX"
      }
    },
    {
      "cell_type": "code",
      "source": [
        "np.dot(x, y) "
      ],
      "metadata": {
        "colab": {
          "base_uri": "https://localhost:8080/"
        },
        "id": "tQD-XAnp6ln5",
        "outputId": "3292fce1-10b8-426b-cd44-3c76955634df"
      },
      "execution_count": 18,
      "outputs": [
        {
          "output_type": "execute_result",
          "data": {
            "text/plain": [
              "array([[ 28.,  64.],\n",
              "       [ 67., 181.]])"
            ]
          },
          "metadata": {},
          "execution_count": 18
        }
      ]
    },
    {
      "cell_type": "code",
      "source": [
        "np.dot(y, x)\n"
      ],
      "metadata": {
        "id": "Vp_B3Wmh7Hc1",
        "outputId": "dbe1752f-8411-4558-d248-39f6ba7d390e",
        "colab": {
          "base_uri": "https://localhost:8080/"
        }
      },
      "execution_count": 20,
      "outputs": [
        {
          "output_type": "execute_result",
          "data": {
            "text/plain": [
              "array([[ 98., 127., 156.],\n",
              "       [ 27.,  33.,  39.],\n",
              "       [ 44.,  61.,  78.]])"
            ]
          },
          "metadata": {},
          "execution_count": 20
        }
      ]
    }
  ]
}